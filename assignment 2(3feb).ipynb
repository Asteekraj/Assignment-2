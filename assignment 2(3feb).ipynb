{
 "cells": [
  {
   "cell_type": "markdown",
   "id": "25879482-2576-46d6-88db-b2cdba0d5de7",
   "metadata": {},
   "source": [
    "Q1. Which keyword is used to create a function? Create a function to return a list of odd numbers in the\n",
    "range of 1 to 25."
   ]
  },
  {
   "cell_type": "markdown",
   "id": "0d068efc-be5e-414e-b327-7fbbfa058897",
   "metadata": {},
   "source": [
    "Ans:  \"def\" keyword is used for creation of function."
   ]
  },
  {
   "cell_type": "code",
   "execution_count": 1,
   "id": "d07cbdab-41bf-4856-b54a-240ac7fba260",
   "metadata": {},
   "outputs": [],
   "source": [
    "def odd_numbers():\n",
    "    l=[]\n",
    "    for i in range(1,15):\n",
    "        if i%2!=0:\n",
    "            l.append(i)\n",
    "    return l\n",
    "            \n",
    "        "
   ]
  },
  {
   "cell_type": "code",
   "execution_count": 3,
   "id": "a8ca236a-229b-4550-bd5b-bc9eb41c2760",
   "metadata": {},
   "outputs": [
    {
     "data": {
      "text/plain": [
       "[1, 3, 5, 7, 9, 11, 13]"
      ]
     },
     "execution_count": 3,
     "metadata": {},
     "output_type": "execute_result"
    }
   ],
   "source": [
    "odd_numbers()"
   ]
  },
  {
   "cell_type": "markdown",
   "id": "b7814651-883b-4f50-bea7-2f3608c4e81c",
   "metadata": {},
   "source": [
    "Q2. Why *args and **kwargs is used in some functions? Create a function each for *args and **kwargs\n",
    "to demonstrate their use."
   ]
  },
  {
   "cell_type": "markdown",
   "id": "a7eec225-2970-4943-989c-36684f305e50",
   "metadata": {},
   "source": [
    "Ans: *args is used for suppling multiple value into the function and it returns the values in tuple datatype whereas **kargs return values in dict datatype,"
   ]
  },
  {
   "cell_type": "code",
   "execution_count": 4,
   "id": "9d43db54-a69a-44b3-807c-0366f4d6cb22",
   "metadata": {},
   "outputs": [],
   "source": [
    "# *args demonstration\n",
    "def func(*asteek):\n",
    "    return asteek"
   ]
  },
  {
   "cell_type": "code",
   "execution_count": 8,
   "id": "6e7827be-617b-488f-bcaa-64440d8f7766",
   "metadata": {},
   "outputs": [
    {
     "name": "stdout",
     "output_type": "stream",
     "text": [
      "<class 'tuple'>\n"
     ]
    },
    {
     "data": {
      "text/plain": [
       "(1, 5, 8, 48, 'asdt', [1, 5, 8])"
      ]
     },
     "execution_count": 8,
     "metadata": {},
     "output_type": "execute_result"
    }
   ],
   "source": [
    "print(type(func()))\n",
    "func(1,5,8,48,\"asdt\",[1,5,8])\n"
   ]
  },
  {
   "cell_type": "code",
   "execution_count": 9,
   "id": "ba4e8202-41eb-45ef-94dc-4930ddd7ddcf",
   "metadata": {},
   "outputs": [],
   "source": [
    "# **kargs demonstration \n",
    "def func1(**kasteek):\n",
    "    return kasteek "
   ]
  },
  {
   "cell_type": "code",
   "execution_count": 16,
   "id": "39636409-2298-408e-b478-922bbfde3ac3",
   "metadata": {},
   "outputs": [
    {
     "name": "stdout",
     "output_type": "stream",
     "text": [
      "<class 'dict'>\n"
     ]
    },
    {
     "data": {
      "text/plain": [
       "{'a': 1, 's': 8, 'd': 6, 'f': 'asteek', 'j': 'rak'}"
      ]
     },
     "execution_count": 16,
     "metadata": {},
     "output_type": "execute_result"
    }
   ],
   "source": [
    "print(type(func1()))\n",
    "func1(a=1,s=8,d=6,f=\"asteek\",j=\"rak\")"
   ]
  },
  {
   "cell_type": "markdown",
   "id": "f9292f73-4fa1-4479-9604-971b8c4944fb",
   "metadata": {},
   "source": [
    "Q3. What is an iterator in python? Name the method used to initialise the iterator object and the method\n",
    "used for iteration. Use these methods to print the first five elements of the given list [2, 4, 6, 8, 10, 12, 14,\n",
    "16, 18, 20]."
   ]
  },
  {
   "cell_type": "markdown",
   "id": "94812bca-27ef-46b4-ab4e-ede0ff075263",
   "metadata": {},
   "source": [
    "Ans: Iterator:-An iterator is an object that can be iterated upon, meaning that you can traverse through all the values. \n",
    "iterators in python are lists,tuples,dictionaries and sets."
   ]
  },
  {
   "cell_type": "code",
   "execution_count": 20,
   "id": "280d93f7-f7d2-4cc9-8f84-7c3d44c25986",
   "metadata": {},
   "outputs": [
    {
     "name": "stdout",
     "output_type": "stream",
     "text": [
      "2\n",
      "4\n",
      "6\n",
      "8\n",
      "10\n"
     ]
    }
   ],
   "source": [
    "# the first five elements \n",
    "l=[2, 4, 6, 8, 10, 12, 14, 16, 18, 20]\n",
    "x=iter(l)\n",
    "print(next(x))\n",
    "print(next(x))\n",
    "print(next(x))\n",
    "print(next(x))\n",
    "print(next(x))"
   ]
  },
  {
   "cell_type": "markdown",
   "id": "20eba6c0-4203-4b7c-bde0-6067b396a136",
   "metadata": {},
   "source": [
    "Q4. What is a generator function in python? Why yield keyword is used? Give an example of a generator\n",
    "function."
   ]
  },
  {
   "cell_type": "markdown",
   "id": "2175a204-0db6-42c7-a6e2-0b635d29c6a9",
   "metadata": {},
   "source": [
    "Ans: A Python generator function allows you to declare a function that behaves like an iterator, providing a faster and easier way to create iterators."
   ]
  },
  {
   "cell_type": "markdown",
   "id": "ccbe3b94-d1e5-4eb0-91b4-b95c3ce715e1",
   "metadata": {},
   "source": [
    "\"yield\" keyword is used to create a generator function. A type of function that is memory efficient and can be used like an iterator object."
   ]
  },
  {
   "cell_type": "code",
   "execution_count": 2,
   "id": "7459bb68-a682-498a-95c2-eba228af1915",
   "metadata": {},
   "outputs": [
    {
     "name": "stdout",
     "output_type": "stream",
     "text": [
      "<class 'generator'>\n",
      "Hello world!!\n",
      "its good to see you\n"
     ]
    }
   ],
   "source": [
    "def fun_generator():\n",
    "    yield \"Hello world!!\"\n",
    "    yield \"it's good to see you\"\n",
    " \n",
    " \n",
    "obj = fun_generator()\n",
    " \n",
    "print(type(obj))\n",
    " \n",
    "print(next(obj))\n",
    "print(next(obj))"
   ]
  },
  {
   "cell_type": "markdown",
   "id": "670c9e89-71af-40ff-a993-0133ab5f7bfc",
   "metadata": {},
   "source": [
    "Q5. Create a generator function for prime numbers less than 1000. Use the next() method to print the\n",
    "first 20 prime numbers."
   ]
  },
  {
   "cell_type": "code",
   "execution_count": 2,
   "id": "2f7607a3-079f-4678-8ea4-9704c263187b",
   "metadata": {},
   "outputs": [
    {
     "name": "stdout",
     "output_type": "stream",
     "text": [
      "2\n"
     ]
    }
   ],
   "source": [
    "def prime_generator(l):\n",
    "    for i in range(0,l):\n",
    "        if i==2:\n",
    "            yield i\n",
    "        elif i>2:\n",
    "            num=list(set(range(2,i,1)))\n",
    "            for n in num:\n",
    "                if i%n==0:\n",
    "                    break\n",
    "            else:\n",
    "                yield i\n",
    "a = list(prime_generator(1000))\n",
    "x = iter(a)\n",
    "print(next(x))"
   ]
  },
  {
   "cell_type": "markdown",
   "id": "9ff2efd0-8ee2-4070-95ab-9abc74afd520",
   "metadata": {},
   "source": [
    "Q6. Write a python program to print the first 10 Fibonacci numbers using a while loop."
   ]
  },
  {
   "cell_type": "code",
   "execution_count": 8,
   "id": "70dd6154-a74d-4a4c-a222-b4d60c220f43",
   "metadata": {},
   "outputs": [
    {
     "name": "stdout",
     "output_type": "stream",
     "text": [
      "0\n",
      "1\n",
      "1\n",
      "2\n",
      "3\n",
      "5\n",
      "8\n",
      "13\n",
      "21\n",
      "34\n"
     ]
    }
   ],
   "source": [
    "a=0\n",
    "b=1\n",
    "print(a)\n",
    "print(b)\n",
    "count=0\n",
    "while count<8:\n",
    "    c = a+b\n",
    "    a=b\n",
    "    b=c\n",
    "    print(c)\n",
    "    count += 1"
   ]
  },
  {
   "cell_type": "markdown",
   "id": "c5cee392-a1e4-4715-8d90-c982e05f1ddb",
   "metadata": {},
   "source": [
    "Q7. Write a List Comprehension to iterate through the given string: ‘pwskills’.\n",
    "Expected output: ['p', 'w', 's', 'k', 'i', 'l', 'l', 's']"
   ]
  },
  {
   "cell_type": "code",
   "execution_count": 10,
   "id": "bbf02a97-f174-46f8-83b6-d2d15b77d4fe",
   "metadata": {},
   "outputs": [
    {
     "name": "stdout",
     "output_type": "stream",
     "text": [
      "['p', 'w', 's', 'k', 'i', 'l', 'l', 's']\n"
     ]
    }
   ],
   "source": [
    "l=[]\n",
    "for i in \"pwskills\":\n",
    "    l.append(str(i))\n",
    "print(l)"
   ]
  },
  {
   "cell_type": "markdown",
   "id": "b3bca9d3-13ba-4528-9673-44aaa8ea0633",
   "metadata": {},
   "source": [
    "Q8. Write a python program to check whether a given number is Palindrome or not using a while loop."
   ]
  },
  {
   "cell_type": "code",
   "execution_count": 12,
   "id": "90886ad5-315d-4bde-929a-d86644f871fd",
   "metadata": {},
   "outputs": [
    {
     "name": "stdin",
     "output_type": "stream",
     "text": [
      "Enter a number: 1217\n"
     ]
    },
    {
     "name": "stdout",
     "output_type": "stream",
     "text": [
      "Not a palindrome!\n"
     ]
    }
   ],
   "source": [
    "# to check palindrome (abcba)\n",
    "num=int(input(\"Enter a number:\"))\n",
    "a=num\n",
    "rev=0\n",
    "while(num>0):\n",
    "    rem=num%10\n",
    "    rev=rev*10+rem\n",
    "    num=num//10\n",
    "if(a==rev):\n",
    "    print(\"The number is palindrome!\")\n",
    "else:\n",
    "    print(\"Not a palindrome!\")\n"
   ]
  },
  {
   "cell_type": "markdown",
   "id": "247859f0-2741-4ae0-b1e4-e59e4a87489f",
   "metadata": {},
   "source": [
    "Q9. Write a code to print odd numbers from 1 to 100 using list comprehension.\n",
    "Note: Use a list comprehension to create a list from 1 to 100 and use another List comprehension to filter\n",
    "out odd numbers."
   ]
  },
  {
   "cell_type": "code",
   "execution_count": 19,
   "id": "a20f889a-f422-4378-acce-11ff9fcb3023",
   "metadata": {},
   "outputs": [
    {
     "name": "stdout",
     "output_type": "stream",
     "text": [
      "[1, 2, 3, 4, 5, 6, 7, 8, 9, 10, 11, 12, 13, 14, 15, 16, 17, 18, 19, 20, 21, 22, 23, 24, 25, 26, 27, 28, 29, 30, 31, 32, 33, 34, 35, 36, 37, 38, 39, 40, 41, 42, 43, 44, 45, 46, 47, 48, 49, 50, 51, 52, 53, 54, 55, 56, 57, 58, 59, 60, 61, 62, 63, 64, 65, 66, 67, 68, 69, 70, 71, 72, 73, 74, 75, 76, 77, 78, 79, 80, 81, 82, 83, 84, 85, 86, 87, 88, 89, 90, 91, 92, 93, 94, 95, 96, 97, 98, 99, 100]\n",
      "\n",
      "[1, 3, 5, 7, 9, 11, 13, 15, 17, 19, 21, 23, 25, 27, 29, 31, 33, 35, 37, 39, 41, 43, 45, 47, 49, 51, 53, 55, 57, 59, 61, 63, 65, 67, 69, 71, 73, 75, 77, 79, 81, 83, 85, 87, 89, 91, 93, 95, 97, 99]\n"
     ]
    }
   ],
   "source": [
    "\n",
    "list_of_100_num=[x for x in range(1,101)]\n",
    "print(list_of_100_num)\n",
    "\n",
    "print()\n",
    "\n",
    "list_of_odd_numbers=[y for y in range(1,101) if y%2 != 0]\n",
    "print(list_of_odd_numbers)"
   ]
  },
  {
   "cell_type": "code",
   "execution_count": null,
   "id": "a38eb827-8158-4b16-87e6-826ad1dc4086",
   "metadata": {},
   "outputs": [],
   "source": []
  },
  {
   "cell_type": "code",
   "execution_count": null,
   "id": "bab336a6-6397-4dc1-9dab-f5625d03fcc8",
   "metadata": {},
   "outputs": [],
   "source": []
  }
 ],
 "metadata": {
  "kernelspec": {
   "display_name": "Python 3 (ipykernel)",
   "language": "python",
   "name": "python3"
  },
  "language_info": {
   "codemirror_mode": {
    "name": "ipython",
    "version": 3
   },
   "file_extension": ".py",
   "mimetype": "text/x-python",
   "name": "python",
   "nbconvert_exporter": "python",
   "pygments_lexer": "ipython3",
   "version": "3.10.8"
  }
 },
 "nbformat": 4,
 "nbformat_minor": 5
}
